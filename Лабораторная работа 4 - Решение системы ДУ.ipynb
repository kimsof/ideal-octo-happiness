{
 "cells": [
  {
   "cell_type": "markdown",
   "metadata": {},
   "source": [
    "### Задача:\n",
    "#### $ \\left\\{\\begin{matrix}  \\frac{dy1}{dx} = 99y1+250y2 \n",
    "\\\\  \\frac{dy2}{dx} = 40y1+99y2 \n",
    "\\\\ y1(0) = A\n",
    "\\\\ y2(0) = B\n",
    "\\\\ 0<x<D=1\n",
    "\\end{matrix}\\right. $\n",
    "#### $ Y(x) = \\binom{y1(x)}{{y2(x)}} \\Rightarrow  {Y}' =\\binom{{y1}'(x)}{{{y2}'(x)}}=F(x,Y) = \\binom{99Y[0] + 250Y[1]}{{40Y[0] + 99Y[1]}} $\n"
   ]
  },
  {
   "cell_type": "markdown",
   "metadata": {},
   "source": [
    "### Решение задачи будет осуществляться с помощью неявного метода Эйлера первого порядка:\n",
    "\n",
    "#### $ y_{n+1}=y_{n}+hf_{1}, $\n",
    "#### $f_{1} = f(x_{n}+h, y_{n}+hf_{1}), $  \n",
    "#### $n=0,...,N-1$  "
   ]
  },
  {
   "cell_type": "markdown",
   "metadata": {},
   "source": [
    "### Проверка порядка аппроксимации:\n",
    "####  Условие Кутты: $ c_{j} = \\sum_{i=1}^{s}{a_{ij}} ,\\forall j  $\n",
    "#### $ p = 1: \\sum_{i=1}^{s}{b_{i}} =  b_{1} = 1 $\n",
    "#### $ p = 2: 2 \\sum_{i=1}^{s}{b_{i}}{c_{i}} = 2\\cdot 1\\cdot 1 = 2\\neq 1 \\Rightarrow $ метод 1 порядка."
   ]
  },
  {
   "cell_type": "markdown",
   "metadata": {},
   "source": [
    "### Устойчивость:\n",
    "#### Функция устойчивости: $ R(z) = \\frac{1}{1-z}, z = \\lambda h $\n",
    "#### Область устойчивости: $\\left | R(z) \\right | \\leq 1, \\forall \\lambda_{i} $\n",
    "#### $ \\lambda_{1}=199,  \\lambda_{2}=-1 \\Rightarrow$ метод будет устойчив при h:\n",
    "#### $\\left\\{\\begin{matrix}  | \\frac{1}{1-199 h} | \\leq 1\n",
    "\\\\  | \\frac{1}{1+h} | \\leq 1\n",
    "\\end{matrix}\\right. \\rightarrow h \\geq \\frac{2}{199}$\n"
   ]
  },
  {
   "cell_type": "markdown",
   "metadata": {},
   "source": [
    "### Аналитическое решение:\n",
    "#### $ y_{1} = \\frac{5}{2}(\\frac{A}{5} - \\frac{B}{2})e^{-x} + \\frac{5}{2}(\\frac{A}{5} + \\frac{B}{2})e^{199x}$\n",
    "#### $y_{2} = -(\\frac{A}{5} - \\frac{B}{2})e^{-x} + (\\frac{A}{5} + \\frac{B}{2})e^{199x}$"
   ]
  },
  {
   "cell_type": "code",
   "execution_count": 610,
   "metadata": {},
   "outputs": [],
   "source": [
    "import numpy as np\n",
    "import matplotlib.pyplot as plt\n",
    "import pandas as ps\n",
    "from numpy import linalg\n",
    "\n",
    "arr = np.array([[99, 250], [40, 99]])\n",
    "\n",
    "def ode_sofa(A, B, D, arr, h):  \n",
    "    x = np.arange(0, D + h, h)\n",
    "    N = x.shape[0]\n",
    "    Y = np.zeros((N, 2))\n",
    "    Y[0][0] = A  # начальные \n",
    "    Y[0][1] = B  # условия\n",
    "    \n",
    "    k = np.zeros(2)    \n",
    "    for n in range(N-1): \n",
    "        # решаем уравнение Tk = b \n",
    "        b = np.dot(arr, Y[n])\n",
    "        T = np.eye(2) - arr * h\n",
    "        k = linalg.solve(T,b)\n",
    "        Y[n+1] = Y[n] + h * k\n",
    "    return Y\n",
    "\n",
    "def table(h, A, B, D):\n",
    "    x = np.arange(0, D + h, h)\n",
    "    array = np.zeros((7, 11))\n",
    "    m = (np.arange(0, D + h, h).shape[0]-1)/10\n",
    "    for i in range(11):\n",
    "        array[0][i] = x[int(m*i)]\n",
    "        array[1][i] = ode_sofa(A, B, D, arr, h)[int(m*i)][0]\n",
    "        array[2][i] = (A / 5 - B / 2) * np.exp(-x[int(m*i)]) * 5 / 2 + (A / 5 + B / 2) * np.exp(199 * x[int(m*i)]) * 5 / 2\n",
    "        array[3][i] = np.fabs(array[2][i] - array[1][i])\n",
    "        array[4][i] = ode_sofa(A, B, D, arr, h)[int(m*i)][1]\n",
    "        array[5][i] = - (A / 5 - B / 2) * np.exp(-x[int(m*i)]) + (A / 5 + B / 2) * np.exp(199 * x[int(m*i)])\n",
    "        array[6][i] = np.fabs(array[5][i] - array[4][i])\n",
    "        rows = ['x', '(y1)', '[y1]', '|dy1|', '(y2)', '[y2]', '|dy2|']\n",
    "    return array\n",
    "\n",
    "def view(a, b=None, c=None):\n",
    "    return ps.DataFrame(a, b, c)"
   ]
  },
  {
   "cell_type": "markdown",
   "metadata": {},
   "source": [
    "Вывод результатов"
   ]
  },
  {
   "cell_type": "code",
   "execution_count": 635,
   "metadata": {
    "scrolled": true
   },
   "outputs": [],
   "source": [
    "# параметры\n",
    "A = -50\n",
    "B = 20\n",
    "D = 3\n",
    "h = 2/199 * 1"
   ]
  },
  {
   "cell_type": "code",
   "execution_count": 623,
   "metadata": {
    "scrolled": true
   },
   "outputs": [
    {
     "data": {
      "text/html": [
       "<div>\n",
       "<style scoped>\n",
       "    .dataframe tbody tr th:only-of-type {\n",
       "        vertical-align: middle;\n",
       "    }\n",
       "\n",
       "    .dataframe tbody tr th {\n",
       "        vertical-align: top;\n",
       "    }\n",
       "\n",
       "    .dataframe thead th {\n",
       "        text-align: right;\n",
       "    }\n",
       "</style>\n",
       "<table border=\"1\" class=\"dataframe\">\n",
       "  <thead>\n",
       "    <tr style=\"text-align: right;\">\n",
       "      <th></th>\n",
       "      <th>0</th>\n",
       "      <th>1</th>\n",
       "      <th>2</th>\n",
       "      <th>3</th>\n",
       "      <th>4</th>\n",
       "      <th>5</th>\n",
       "      <th>6</th>\n",
       "      <th>7</th>\n",
       "      <th>8</th>\n",
       "      <th>9</th>\n",
       "      <th>10</th>\n",
       "    </tr>\n",
       "  </thead>\n",
       "  <tbody>\n",
       "    <tr>\n",
       "      <th>x</th>\n",
       "      <td>0.0</td>\n",
       "      <td>0.291457</td>\n",
       "      <td>0.592965</td>\n",
       "      <td>0.894472</td>\n",
       "      <td>1.195980</td>\n",
       "      <td>1.497487</td>\n",
       "      <td>1.798995</td>\n",
       "      <td>2.100503</td>\n",
       "      <td>2.402010</td>\n",
       "      <td>2.703518</td>\n",
       "      <td>3.005025</td>\n",
       "    </tr>\n",
       "    <tr>\n",
       "      <th>(y1)</th>\n",
       "      <td>-50.0</td>\n",
       "      <td>-37.413088</td>\n",
       "      <td>-27.716228</td>\n",
       "      <td>-20.532635</td>\n",
       "      <td>-15.210912</td>\n",
       "      <td>-11.268493</td>\n",
       "      <td>-8.347884</td>\n",
       "      <td>-6.184249</td>\n",
       "      <td>-4.581393</td>\n",
       "      <td>-3.393971</td>\n",
       "      <td>-2.514309</td>\n",
       "    </tr>\n",
       "    <tr>\n",
       "      <th>[y1]</th>\n",
       "      <td>-50.0</td>\n",
       "      <td>-37.358696</td>\n",
       "      <td>-27.634312</td>\n",
       "      <td>-20.441163</td>\n",
       "      <td>-15.120374</td>\n",
       "      <td>-11.184575</td>\n",
       "      <td>-8.273255</td>\n",
       "      <td>-6.119745</td>\n",
       "      <td>-4.526789</td>\n",
       "      <td>-3.348476</td>\n",
       "      <td>-2.476875</td>\n",
       "    </tr>\n",
       "    <tr>\n",
       "      <th>|dy1|</th>\n",
       "      <td>0.0</td>\n",
       "      <td>0.054392</td>\n",
       "      <td>0.081916</td>\n",
       "      <td>0.091473</td>\n",
       "      <td>0.090538</td>\n",
       "      <td>0.083918</td>\n",
       "      <td>0.074629</td>\n",
       "      <td>0.064504</td>\n",
       "      <td>0.054604</td>\n",
       "      <td>0.045495</td>\n",
       "      <td>0.037434</td>\n",
       "    </tr>\n",
       "    <tr>\n",
       "      <th>(y2)</th>\n",
       "      <td>20.0</td>\n",
       "      <td>14.965235</td>\n",
       "      <td>11.086491</td>\n",
       "      <td>8.213054</td>\n",
       "      <td>6.084365</td>\n",
       "      <td>4.507397</td>\n",
       "      <td>3.339154</td>\n",
       "      <td>2.473700</td>\n",
       "      <td>1.832557</td>\n",
       "      <td>1.357588</td>\n",
       "      <td>1.005724</td>\n",
       "    </tr>\n",
       "    <tr>\n",
       "      <th>[y2]</th>\n",
       "      <td>20.0</td>\n",
       "      <td>14.943479</td>\n",
       "      <td>11.053725</td>\n",
       "      <td>8.176465</td>\n",
       "      <td>6.048150</td>\n",
       "      <td>4.473830</td>\n",
       "      <td>3.309302</td>\n",
       "      <td>2.447898</td>\n",
       "      <td>1.810716</td>\n",
       "      <td>1.339391</td>\n",
       "      <td>0.990750</td>\n",
       "    </tr>\n",
       "    <tr>\n",
       "      <th>|dy2|</th>\n",
       "      <td>0.0</td>\n",
       "      <td>0.021757</td>\n",
       "      <td>0.032766</td>\n",
       "      <td>0.036589</td>\n",
       "      <td>0.036215</td>\n",
       "      <td>0.033567</td>\n",
       "      <td>0.029852</td>\n",
       "      <td>0.025801</td>\n",
       "      <td>0.021841</td>\n",
       "      <td>0.018198</td>\n",
       "      <td>0.014973</td>\n",
       "    </tr>\n",
       "  </tbody>\n",
       "</table>\n",
       "</div>"
      ],
      "text/plain": [
       "          0          1          2          3          4          5         6  \\\n",
       "x       0.0   0.291457   0.592965   0.894472   1.195980   1.497487  1.798995   \n",
       "(y1)  -50.0 -37.413088 -27.716228 -20.532635 -15.210912 -11.268493 -8.347884   \n",
       "[y1]  -50.0 -37.358696 -27.634312 -20.441163 -15.120374 -11.184575 -8.273255   \n",
       "|dy1|   0.0   0.054392   0.081916   0.091473   0.090538   0.083918  0.074629   \n",
       "(y2)   20.0  14.965235  11.086491   8.213054   6.084365   4.507397  3.339154   \n",
       "[y2]   20.0  14.943479  11.053725   8.176465   6.048150   4.473830  3.309302   \n",
       "|dy2|   0.0   0.021757   0.032766   0.036589   0.036215   0.033567  0.029852   \n",
       "\n",
       "              7         8         9        10  \n",
       "x      2.100503  2.402010  2.703518  3.005025  \n",
       "(y1)  -6.184249 -4.581393 -3.393971 -2.514309  \n",
       "[y1]  -6.119745 -4.526789 -3.348476 -2.476875  \n",
       "|dy1|  0.064504  0.054604  0.045495  0.037434  \n",
       "(y2)   2.473700  1.832557  1.357588  1.005724  \n",
       "[y2]   2.447898  1.810716  1.339391  0.990750  \n",
       "|dy2|  0.025801  0.021841  0.018198  0.014973  "
      ]
     },
     "execution_count": 623,
     "metadata": {},
     "output_type": "execute_result"
    }
   ],
   "source": [
    "view(table(h, A, B, D), ['x', '(y1)', '[y1]', '|dy1|', '(y2)', '[y2]', '|dy2|'])"
   ]
  },
  {
   "cell_type": "code",
   "execution_count": 636,
   "metadata": {
    "scrolled": true
   },
   "outputs": [
    {
     "data": {
      "text/html": [
       "<div>\n",
       "<style scoped>\n",
       "    .dataframe tbody tr th:only-of-type {\n",
       "        vertical-align: middle;\n",
       "    }\n",
       "\n",
       "    .dataframe tbody tr th {\n",
       "        vertical-align: top;\n",
       "    }\n",
       "\n",
       "    .dataframe thead th {\n",
       "        text-align: right;\n",
       "    }\n",
       "</style>\n",
       "<table border=\"1\" class=\"dataframe\">\n",
       "  <thead>\n",
       "    <tr style=\"text-align: right;\">\n",
       "      <th></th>\n",
       "      <th>x 1</th>\n",
       "      <th>x 2</th>\n",
       "      <th>x 4</th>\n",
       "      <th>x 8</th>\n",
       "      <th>x 16</th>\n",
       "      <th>x 32</th>\n",
       "      <th>x 64</th>\n",
       "    </tr>\n",
       "  </thead>\n",
       "  <tbody>\n",
       "    <tr>\n",
       "      <th>h</th>\n",
       "      <td>0.010050</td>\n",
       "      <td>0.020101</td>\n",
       "      <td>0.040201</td>\n",
       "      <td>0.080402</td>\n",
       "      <td>0.160804</td>\n",
       "      <td>0.321608</td>\n",
       "      <td>0.643216</td>\n",
       "    </tr>\n",
       "    <tr>\n",
       "      <th>||y||</th>\n",
       "      <td>0.091473</td>\n",
       "      <td>0.182354</td>\n",
       "      <td>0.360623</td>\n",
       "      <td>0.708897</td>\n",
       "      <td>1.383447</td>\n",
       "      <td>2.607666</td>\n",
       "      <td>4.704694</td>\n",
       "    </tr>\n",
       "  </tbody>\n",
       "</table>\n",
       "</div>"
      ],
      "text/plain": [
       "            x 1       x 2       x 4       x 8      x 16      x 32      x 64\n",
       "h      0.010050  0.020101  0.040201  0.080402  0.160804  0.321608  0.643216\n",
       "||y||  0.091473  0.182354  0.360623  0.708897  1.383447  2.607666  4.704694"
      ]
     },
     "execution_count": 636,
     "metadata": {},
     "output_type": "execute_result"
    }
   ],
   "source": [
    "def table2(n):\n",
    "    array = np.zeros((2,n)) # для вывода нормы и шага, n - кол-во возможных шагов\n",
    "    array1 = [] # вспомогательная\n",
    "    h = 2/199\n",
    "    for i in range(n):\n",
    "        array[0][i] = h\n",
    "        array1.append(max([max(table(h, A, B, D)[3][:]), max(table(h, A, B, D)[6][:])]))\n",
    "        h = h * 2\n",
    "    array[1] = array1\n",
    "    return view(array,  ['h', '||y||'], ['x 1', 'x 2', 'x 4', 'x 8', 'x 16', 'x 32', 'x 64'])\n",
    "table2(7)"
   ]
  },
  {
   "cell_type": "markdown",
   "metadata": {},
   "source": [
    "График численного решения:"
   ]
  },
  {
   "cell_type": "code",
   "execution_count": 637,
   "metadata": {},
   "outputs": [
    {
     "data": {
      "text/plain": [
       "(0.0, 3.0, 0.0, 10.0)"
      ]
     },
     "execution_count": 637,
     "metadata": {},
     "output_type": "execute_result"
    },
    {
     "data": {
      "image/png": "[encoded data removed]",
      "text/plain": [
       "<Figure size 432x288 with 1 Axes>"
      ]
     },
     "metadata": {
      "needs_background": "light"
     },
     "output_type": "display_data"
    }
   ],
   "source": [
    "x = np.arange(0, D+h, h)\n",
    "array = ode_sofa(A, B, D, arr, h)\n",
    "plt.plot(x, array.T[0])\n",
    "plt.plot(x, array.T[1])\n",
    "plt.axis([0,D,0,10])"
   ]
  },
  {
   "cell_type": "code",
   "execution_count": 638,
   "metadata": {},
   "outputs": [
    {
     "data": {
      "text/plain": [
       "(0.0, 3.0, 0.0, 10.0)"
      ]
     },
     "execution_count": 638,
     "metadata": {},
     "output_type": "execute_result"
    },
    {
     "data": {
      "image/png": "[encoded data removed]",
      "text/plain": [
       "<Figure size 432x288 with 1 Axes>"
      ]
     },
     "metadata": {
      "needs_background": "light"
     },
     "output_type": "display_data"
    }
   ],
   "source": [
    "x = np.arange(0, D + h, h)\n",
    "y1 = (A / 5 - B / 2) * np.exp(-x) * 5 / 2 + (A / 5 + B / 2) * np.exp(199*x) * 5 / 2\n",
    "y2 = - (A / 5 - B / 2) * np.exp(-x) + (A / 5 + B / 2) * np.exp(199*x) \n",
    "plt.plot(x, y1)\n",
    "plt.plot(x, y2)\n",
    "plt.axis([0,D,0,10])"
   ]
  },
  {
   "cell_type": "code",
   "execution_count": 469,
   "metadata": {},
   "outputs": [
    {
     "data": {
      "image/png": "[encoded data removed]",
      "text/plain": [
       "<Figure size 1080x360 with 1 Axes>"
      ]
     },
     "metadata": {
      "needs_background": "light"
     },
     "output_type": "display_data"
    }
   ],
   "source": [
    "import numpy as np\n",
    "import matplotlib.pyplot as plt\n",
    "import pandas as ps\n",
    "from numpy import linalg\n",
    "x = np.linspace(0, 0.1, 500)\n",
    "R1 = np.fabs(1/(1-199*x))\n",
    "R2 = np.fabs(1/(1+x))\n",
    "plt.figure(figsize=(15, 5))\n",
    "plt.plot(x, R1)\n",
    "plt.plot(x, R2)\n",
    "plt.axis([0,0.1,0,1])\n",
    "plt.xlabel('h')\n",
    "plt.ylabel('R(h)')\n",
    "plt.show()"
   ]
  }
 ],
 "metadata": {
  "kernelspec": {
   "display_name": "Python 3",
   "language": "python",
   "name": "python3"
  },
  "language_info": {
   "codemirror_mode": {
    "name": "ipython",
    "version": 3
   },
   "file_extension": ".py",
   "mimetype": "text/x-python",
   "name": "python",
   "nbconvert_exporter": "python",
   "pygments_lexer": "ipython3",
   "version": "3.8.3"
  }
 },
 "nbformat": 4,
 "nbformat_minor": 4
}
